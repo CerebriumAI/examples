{
 "cells": [
  {
   "cell_type": "markdown",
   "metadata": {},
   "source": [
    "# Exploring a Pytorch Model's Latent Space\n",
    "Atlas can be used to better understand your deep neural nets training and test characteristics.\n",
    "By interacting with your models embeddings (logits) during training and evaluation you can:\n",
    "- Identify which classes, targets or concepts your model has ease/difficulty learning.\n",
    "- Identify mislabeled datapoints.\n",
    "- Spot bugs/errors in your model implementation.\n",
    "\n",
    "Atlas has a Pytorch Lightning hook that you can plug straight into your pytorch lightning training scripts.\n",
    "This tutorial will take you through using it to visualize the training of a two layer neural network on MNIST."
   ]
  },
  {
   "cell_type": "code",
   "execution_count": null,
   "metadata": {
    "pycharm": {
     "is_executing": true
    }
   },
   "outputs": [],
   "source": [
    "!pip install pytorch-lightning torch torchvision torchmetrics"
   ]
  },
  {
   "cell_type": "code",
   "execution_count": 7,
   "metadata": {},
   "outputs": [],
   "source": [
    "import os\n",
    "import torch\n",
    "from pytorch_lightning import LightningModule, Trainer\n",
    "from pytorch_lightning.callbacks.progress import TQDMProgressBar\n",
    "from torch.nn import functional as F\n",
    "from torch.utils.data import DataLoader, random_split\n",
    "from torchvision import transforms\n",
    "from torchvision.datasets import MNIST\n",
    "from nomic.pl_callbacks import AtlasEmbeddingExplorer\n",
    "import nomic\n",
    "\n",
    "PATH_DATASETS = os.environ.get(\"PATH_DATASETS\", \".\")\n",
    "BATCH_SIZE = 256 if torch.cuda.is_available() else 64\n",
    "torch.manual_seed(0)\n",
    "# #api key to a limited demo account. Make your own account at atlas.nomic.ai\n",
    "nomic.login('7xDPkYXSYDc1_ErdTPIcoAR9RNd8YDlkS3nVNXcVoIMZ6')"
   ]
  },
  {
   "cell_type": "markdown",
   "metadata": {},
   "source": [
    "# The Lightning Module"
   ]
  },
  {
   "cell_type": "code",
   "execution_count": 3,
   "metadata": {},
   "outputs": [],
   "source": [
    "class MNISTModel(LightningModule):\n",
    "    def __init__(self):\n",
    "        super().__init__()\n",
    "        self.l1 = torch.nn.Linear(28 * 28, 10)\n",
    "        self.l2 = torch.nn.Linear(10, 10)\n",
    "\n",
    "    def forward(self, x):\n",
    "        return torch.relu(self.l2(torch.relu(self.l1(x.view(x.size(0), -1)))))\n",
    "\n",
    "    def training_step(self, batch, batch_nb):\n",
    "        x, y = batch\n",
    "        logits = self(x)\n",
    "        loss = F.cross_entropy(logits, y)\n",
    "        return loss\n",
    "\n",
    "    def validation_step(self, batch, batch_idx):\n",
    "        x, y = batch\n",
    "        logits = self(x)\n",
    "        prediction = torch.argmax(logits, dim=1)\n",
    "\n",
    "        #an image for each label\n",
    "        image_links = [f'https://s3.amazonaws.com/static.nomic.ai/mnist/eval/{label}/{batch_idx*BATCH_SIZE+idx}.jpg'\n",
    "                       for idx, label in enumerate(y)]\n",
    "        metadata = {'label': y, 'prediction': prediction, 'url': image_links}\n",
    "        self.atlas.log(embeddings=logits, metadata=metadata)\n",
    "\n",
    "    def configure_optimizers(self):\n",
    "        return torch.optim.Adam(self.parameters(), lr=0.02)"
   ]
  },
  {
   "cell_type": "markdown",
   "metadata": {},
   "source": [
    "## Training the model"
   ]
  },
  {
   "cell_type": "code",
   "execution_count": null,
   "metadata": {
    "pycharm": {
     "is_executing": true
    }
   },
   "outputs": [],
   "source": [
    "mnist_model = MNISTModel()\n",
    "\n",
    "# Init DataLoader from MNIST Dataset\n",
    "train_ds = MNIST(PATH_DATASETS, train=True, download=True, transform=transforms.ToTensor())\n",
    "test_ds = MNIST(PATH_DATASETS, train=False, download=True, transform=transforms.ToTensor())\n",
    "train_loader = DataLoader(train_ds, batch_size=BATCH_SIZE)\n",
    "test_loader = DataLoader(test_ds, batch_size=BATCH_SIZE)\n",
    "\n",
    "# Initialize a trainer\n",
    "max_epochs = 10\n",
    "\n",
    "# Initialize the Embedding Explorer 🗺️ hook\n",
    "embedding_explorer = AtlasEmbeddingExplorer(max_points=10_000,\n",
    "                                            name=\"MNIST Validation Latent Space\",\n",
    "                                            description=\"MNIST Validation Latent Space\",\n",
    "                                            overwrite_on_validation=True)\n",
    "trainer = Trainer(\n",
    "    accelerator=\"auto\",\n",
    "    devices=1 if torch.cuda.is_available() else None,\n",
    "    max_epochs=max_epochs,\n",
    "    check_val_every_n_epoch=10,\n",
    "    callbacks=[TQDMProgressBar(refresh_rate=20),\n",
    "               embedding_explorer],\n",
    ")\n",
    "\n",
    "# Train the model ⚡\n",
    "trainer.fit(mnist_model, train_dataloaders=train_loader, val_dataloaders=test_loader)\n"
   ]
  },
  {
   "cell_type": "markdown",
   "metadata": {},
   "source": [
    "## Validate the model and log the embeddings"
   ]
  },
  {
   "cell_type": "code",
   "execution_count": null,
   "metadata": {
    "pycharm": {
     "is_executing": true
    }
   },
   "outputs": [],
   "source": [
    "trainer.validate(mnist_model, test_loader)"
   ]
  },
  {
   "cell_type": "markdown",
   "metadata": {},
   "source": [
    "## View the map"
   ]
  },
  {
   "cell_type": "code",
   "execution_count": 6,
   "metadata": {},
   "outputs": [
    {
     "data": {
      "text/plain": "MNIST Validation Latent Space: https://atlas.nomic.ai/map/b5b56ee6-9de6-4659-8e35-6b0048f628c2/8a833b97-7ced-4e76-adbc-a7089b7f95de",
      "text/html": "\n            <h3>Project: MNIST Validation Latent Space</h3>\n            <script>\n            destroy = function() {\n                document.getElementById(\"iframe8a833b97-7ced-4e76-adbc-a7089b7f95de\").remove()\n            }\n        </script>\n        <div class=\"actions\">\n            <div id=\"hide\" class=\"action\" onclick=\"destroy()\">Hide embedded project</div>\n            <div class=\"action\" id=\"out\">\n                <a href=\"https://atlas.nomic.ai/map/b5b56ee6-9de6-4659-8e35-6b0048f628c2/8a833b97-7ced-4e76-adbc-a7089b7f95de\" target=\"_blank\">Explore on atlas.nomic.ai</a>\n            </div>\n        </div>\n        \n        <iframe class=\"iframe\" id=\"iframe8a833b97-7ced-4e76-adbc-a7089b7f95de\" allow=\"clipboard-read; clipboard-write\" src=\"https://atlas.nomic.ai/map/b5b56ee6-9de6-4659-8e35-6b0048f628c2/8a833b97-7ced-4e76-adbc-a7089b7f95de\">\n        </iframe>\n\n        <style>\n            .iframe {\n                /* vh can be **very** large in vscode ipynb. */\n                height: min(75vh, 66vw);\n                width: 100%;\n            }\n        </style>\n        \n        <style>\n            .actions {\n              display: block;\n            }\n            .action {\n              min-height: 18px;\n              margin: 5px;\n              transition: all 500ms ease-in-out;\n            }\n            .action:hover {\n              cursor: pointer;\n            }\n            #hide:hover::after {\n                content: \" X\";\n            }\n            #out:hover::after {\n                content: \"\";\n            }\n        </style>\n        \n            "
     },
     "execution_count": 6,
     "metadata": {},
     "output_type": "execute_result"
    }
   ],
   "source": [
    "embedding_explorer.map"
   ]
  },
  {
   "cell_type": "markdown",
   "source": [
    "## Debugging the Latent Space\n",
    "You can visually inspect your trained models decision boundaries. Points that are misclassied or that are hard to classify appear in-between embedding clusters.\n",
    "For example, hover over the region between the yellow and blue cluster to find points that are hard to discriminate between zero's and six's. Try modifying the Pytorch model definition to see how classification errors differ for models with better vision inductive biases like CNN's."
   ],
   "metadata": {
    "collapsed": false
   }
  }
 ],
 "metadata": {
  "kernelspec": {
   "display_name": "Python 3 (ipykernel)",
   "language": "python",
   "name": "python3"
  },
  "language_info": {
   "codemirror_mode": {
    "name": "ipython",
    "version": 3
   },
   "file_extension": ".py",
   "mimetype": "text/x-python",
   "name": "python",
   "nbconvert_exporter": "python",
   "pygments_lexer": "ipython3",
   "version": "3.8.10"
  }
 },
 "nbformat": 4,
 "nbformat_minor": 1
}
