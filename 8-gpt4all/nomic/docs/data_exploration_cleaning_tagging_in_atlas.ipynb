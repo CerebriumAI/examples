{
 "cells": [
  {
   "cell_type": "markdown",
   "source": [
    "# Data Exploration, Cleaning and Labeling in Atlas\n",
    "\n",
    "##### Video Tutorial\n",
    "\n",
    "[![IMAGE_ALT](https://img.youtube.com/vi/3fQaUql5z3k/mqdefault.jpg)](https://youtu.be/3fQaUql5z3k)\n",
    "\n",
    "This tutorial describes how to use Atlas to quickly label and tag a large corpus of text.\n",
    "\n",
    "Atlas provides insights into a text corpus by organizing its documents onto a map.\n",
    "Documents of text that are semantically similar cluster together on a map allowing for the following\n",
    "data labeling workflow:\n",
    "\n",
    "1. Make a map of your data.\n",
    "2. Use the pencil tool in Atlas to tag regions based on your domain expertise.\n",
    "3. Access your annotated tags from a python script or jupyter notebook.\n",
    "\n",
    "Tags can then be funneled into a downstream machine learning model, used to clean your dataset by deleting points from your project and\n",
    "leveraged to build new maps on subsets of your data."
   ],
   "metadata": {
    "collapsed": false
   }
  },
  {
   "cell_type": "markdown",
   "source": [
    "# Exploring and Labeling a News Dataset\n",
    "In this example, we will map and label a news dataset from the Huggingface hub.\n",
    "To start, load the dataset [ag_news](https://huggingface.co/datasets/ag_news), randomly sample 10,000 points and map it.\n",
    "\n",
    "The dataset is composed of news articles scraped by an [academic news scraping engine](http://groups.di.unipi.it/~gulli/AG_corpus_of_news_articles.html) after 2004.\n"
   ],
   "metadata": {
    "collapsed": false
   }
  },
  {
   "cell_type": "code",
   "execution_count": null,
   "metadata": {
    "collapsed": true,
    "pycharm": {
     "is_executing": true
    }
   },
   "outputs": [],
   "source": [
    "from nomic import atlas\n",
    "import nomic\n",
    "import numpy as np\n",
    "import random\n",
    "from datasets import load_dataset\n",
    "\n",
    "np.random.seed(0)  # so your map has the same points sampled.\n",
    "\n",
    "dataset = load_dataset('ag_news')['train']\n",
    "\n",
    "max_documents = 10000\n",
    "subset_idxs = np.random.randint(len(dataset), size=max_documents).tolist()\n",
    "documents = [dataset[i] for i in subset_idxs]\n",
    "for i in range(len(documents)):\n",
    "    documents[i]['id'] = i\n",
    "\n",
    "project = atlas.map_text(data=documents,\n",
    "                         id_field='id',\n",
    "                         indexed_field='text',\n",
    "                         name='News 10k Tutorial',\n",
    "                         description='10k News Articles for Labeling'\n",
    "                         )"
   ]
  },
  {
   "cell_type": "code",
   "execution_count": 13,
   "outputs": [
    {
     "data": {
      "text/plain": "News 10k Tutorial: https://atlas.nomic.ai/map/730f5bc8-ed45-4b18-99cd-67aa05a16513/f4426ade-0aff-49b1-864e-614c1d5f5f05",
      "text/html": "\n            <h3>Project: News 10k Tutorial</h3>\n            <script>\n            destroy = function() {\n                document.getElementById(\"iframef4426ade-0aff-49b1-864e-614c1d5f5f05\").remove()\n            }\n        </script>\n        <div class=\"actions\">\n            <div id=\"hide\" class=\"action\" onclick=\"destroy()\">Hide embedded project</div>\n            <div class=\"action\" id=\"out\">\n                <a href=\"https://atlas.nomic.ai/map/730f5bc8-ed45-4b18-99cd-67aa05a16513/f4426ade-0aff-49b1-864e-614c1d5f5f05\" target=\"_blank\">Explore on atlas.nomic.ai</a>\n            </div>\n        </div>\n        \n        <iframe class=\"iframe\" id=\"iframef4426ade-0aff-49b1-864e-614c1d5f5f05\" allow=\"clipboard-read; clipboard-write\" src=\"https://atlas.nomic.ai/map/730f5bc8-ed45-4b18-99cd-67aa05a16513/f4426ade-0aff-49b1-864e-614c1d5f5f05\">\n        </iframe>\n\n        <style>\n            .iframe {\n                /* vh can be **very** large in vscode ipynb. */\n                height: min(75vh, 66vw);\n                width: 100%;\n            }\n        </style>\n        \n        <style>\n            .actions {\n              display: block;\n            }\n            .action {\n              min-height: 18px;\n              margin: 5px;\n              transition: all 500ms ease-in-out;\n            }\n            .action:hover {\n              cursor: pointer;\n            }\n            #hide:hover::after {\n                content: \" X\";\n            }\n            #out:hover::after {\n                content: \"\";\n            }\n        </style>\n        \n            "
     },
     "execution_count": 13,
     "metadata": {},
     "output_type": "execute_result"
    }
   ],
   "source": [
    "# Once your map is built, run this cell.\n",
    "project.maps[0]"
   ],
   "metadata": {
    "collapsed": false
   }
  },
  {
   "cell_type": "markdown",
   "source": [
    "# Annotating the Map\n",
    "Using the toolbar on the right side of the Map, you can interact with your uploaded data.\n",
    "In this example, we are going to:\n",
    "1. Select all sports related points.\n",
    "2. Tag them as 'sports'.\n",
    "3. Delete the points via the Python client and the see the map update!\n",
    "\n",
    "\n",
    "To get started, click the Pencil tool and circle the Sports related points. You know where they are because the map pre-organizes them all together!\n",
    "\n",
    "\n",
    "![title](assets/labeling_tutorial/ag_news_10k_news_lassoed.png)"
   ],
   "metadata": {
    "collapsed": false
   }
  },
  {
   "cell_type": "markdown",
   "source": [
    "This brings up the Selection pane where you can:\n",
    "1. Filter through your selected datapoints (try the arrow or WASD keybindings)\n",
    "2. Tag your selected points (tagging only works if that map belongs to you)\n",
    "\n",
    "Click the Bulk Tag button (top right of pane) in the Selection Pane and tag the region as `sports`.\n",
    "\n",
    "![title](assets/labeling_tutorial/news10k_selection_pane.png)"
   ],
   "metadata": {
    "collapsed": false
   }
  },
  {
   "cell_type": "markdown",
   "source": [
    "Now here is where Atlas shines. The interaction you just did in your web browser is synced to your project's state.\n",
    "\n",
    "Load up your project by initializing it by name and then access your tags."
   ],
   "metadata": {
    "collapsed": false
   }
  },
  {
   "cell_type": "code",
   "execution_count": null,
   "outputs": [],
   "source": [
    "from nomic import AtlasProject\n",
    "project = AtlasProject(name='News 10k Tutorial')\n",
    "map = project.maps[0]"
   ],
   "metadata": {
    "collapsed": false,
    "pycharm": {
     "is_executing": true
    }
   }
  },
  {
   "cell_type": "code",
   "execution_count": 8,
   "outputs": [
    {
     "name": "stdout",
     "output_type": "stream",
     "text": [
      "sports Count: 2574 ['1003', '1005', '1006', '1010', '1015', '1016', '102', '103', '1031', '1038']\n",
      "[{'id': 1003, 'text': 'Boxing: Ronald Wright retains titles Ronald Wright used an effective right jab to retain his World Boxing Association and World Boxing Council junior middleweight titles when posting a majority decision over former champion Shane Mosley in Las Vegas yesterday.', 'label': 1}, {'id': 1005, 'text': 'U.S. Furious at Proposal That Hamm Return His Gold  ATHENS (Reuters) - U.S. Olympic chiefs reacted furiously  Friday to a suggestion all-round champion Paul Hamm should give  his gold medal to a South Korean rival under a plan floated by  the governing body of world gymnastics.', 'label': 1}]\n"
     ]
    }
   ],
   "source": [
    "tags = map.get_tags()\n",
    "for tag, datum_ids in tags.items():\n",
    "    print(tag, \"Count:\", len(datum_ids), datum_ids[:10])\n",
    "\n",
    "print(project.get_data(ids=tags['sports'][:2]))"
   ],
   "metadata": {
    "collapsed": false
   }
  },
  {
   "cell_type": "markdown",
   "source": [
    "# Removing all sports articles\n",
    "Now let's delete all points related to sports from the map. Call the `delete_data` method on your project with the ids of the sports data point.\n",
    "Then, rebuild the map."
   ],
   "metadata": {
    "collapsed": false
   }
  },
  {
   "cell_type": "code",
   "execution_count": null,
   "outputs": [],
   "source": [
    "project.delete_data(ids=tags['sports'])\n",
    "project.rebuild_maps()"
   ],
   "metadata": {
    "collapsed": false,
    "pycharm": {
     "is_executing": true
    }
   }
  },
  {
   "cell_type": "markdown",
   "source": [],
   "metadata": {
    "collapsed": false
   }
  },
  {
   "cell_type": "markdown",
   "source": [
    "After about a minute, your map should be re-organized without any sports articles.\n",
    "Notice how all other positions remain largely the same.\n",
    "![title](assets/labeling_tutorial/ag_news_sports_removed.png)"
   ],
   "metadata": {
    "collapsed": false
   }
  },
  {
   "cell_type": "markdown",
   "source": [
    "With this workflow, you can quickly triage through, tag and clean large unstructured datasets.\n",
    "Checkout out the [Monitoring Text Over Time](chatbot_observability.ipynb) tutorial to learn how you can utilize tags and labels that Atlas has automatically extracted from your data as part of your workflow."
   ],
   "metadata": {
    "collapsed": false
   }
  }
 ],
 "metadata": {
  "kernelspec": {
   "display_name": "Python 3",
   "language": "python",
   "name": "python3"
  },
  "language_info": {
   "codemirror_mode": {
    "name": "ipython",
    "version": 2
   },
   "file_extension": ".py",
   "mimetype": "text/x-python",
   "name": "python",
   "nbconvert_exporter": "python",
   "pygments_lexer": "ipython2",
   "version": "2.7.6"
  }
 },
 "nbformat": 4,
 "nbformat_minor": 0
}
