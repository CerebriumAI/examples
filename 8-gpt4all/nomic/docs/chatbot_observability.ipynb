{
 "cells": [
  {
   "cell_type": "markdown",
   "metadata": {
    "id": "IVA4l89J_-s-"
   },
   "source": [
    "# Monitoring Chatbots with Atlas, Langchain and Cohere\n",
    "\n",
    "One of the hardest things about building a chatbot is monitoring how users are actually interacting with the model. Are users sending toxic messages? Is your bot producing toxic outputs?\n",
    "\n",
    "In this tutorial, we'll show you how to use Langchain, AtlasDB, and Cohere to monitor your chatbot for toxic content."
   ]
  },
  {
   "cell_type": "markdown",
   "metadata": {
    "id": "iTYNq3XUkaQa"
   },
   "source": [
    "## Installing Dependencies"
   ]
  },
  {
   "cell_type": "code",
   "execution_count": null,
   "metadata": {
    "id": "N5wZNqqKjSKP",
    "pycharm": {
     "is_executing": true
    }
   },
   "outputs": [],
   "source": [
    "!pip install langchain cohere datasets\n",
    "!pip install --upgrade nomic\n",
    "COHERE_API_KEY = ''\n",
    "ATLAS_API_KEY = ''"
   ]
  },
  {
   "cell_type": "markdown",
   "metadata": {
    "id": "0SboofZFkWQK"
   },
   "source": [
    "## Data Setup\n",
    "\n",
    "To mock a query stream that gets progressively more unsafe, we are going to use two datasets from Allen AI. \n",
    "\n",
    "The first dataset, soda, contains several \"normal\" chatbot transcripts. The second dataset, prosocial-dialog, contains several \"unsafe\" transcripts.\n",
    "\n",
    "We are going to build a data generator that randomly samples a datapoint from one of these datasets.\n",
    "As time goes on, it will become more likely that the generator selects a \"unsafe\" datum. This will mock the real world situation where your query stream becomes more unsafe over time.\n",
    "\n"
   ]
  },
  {
   "cell_type": "code",
   "execution_count": 48,
   "metadata": {
    "id": "BdV5iee9kVLs"
   },
   "outputs": [],
   "source": [
    "import random\n",
    "from datasets import load_dataset\n",
    "\n",
    "def stream_data(T=5000):\n",
    "  safe = load_dataset('allenai/soda')['train']\n",
    "  unsafe = iter([e for e in load_dataset('allenai/prosocial-dialog')['train']\n",
    "                 if e['safety_label'] == '__needs_intervention__'])\n",
    "\n",
    "  for t in range(T):\n",
    "    p_unsafe = t/(3*T) #slowly increase toxic content to 33% chance\n",
    "    is_unsafe = random.uniform(0, 1) <= p_unsafe\n",
    "    if is_unsafe:\n",
    "      x = next(unsafe)\n",
    "      yield 'unsafe', t, x['context'] + ' ' + x['response']\n",
    "    else:\n",
    "      x = safe[t]\n",
    "      yield 'safe', t, x['dialogue'][0]\n",
    "\n",
    "data = [e for e in stream_data(6000)]\n",
    "train_data = data[:5000]\n",
    "test_data = data[5000:]"
   ]
  },
  {
   "cell_type": "markdown",
   "metadata": {
    "id": "UJ3JRMXdAUhD"
   },
   "source": [
    "## Model Setup\n",
    "\n",
    "We are going to use the AtlasDB langchain integration to store our chat data, and CohereEmbeddings to embed it."
   ]
  },
  {
   "cell_type": "code",
   "execution_count": 50,
   "metadata": {
    "id": "PL6H0EFY-R2A"
   },
   "outputs": [],
   "source": [
    "import time\n",
    "import numpy as np\n",
    "from tqdm import tqdm\n",
    "from pprint import pprint\n",
    "from langchain.vectorstores import AtlasDB\n",
    "from langchain.embeddings import CohereEmbeddings"
   ]
  },
  {
   "cell_type": "code",
   "execution_count": null,
   "metadata": {
    "colab": {
     "base_uri": "https://localhost:8080/"
    },
    "id": "jb62pGmLPVEO",
    "outputId": "d9bf7a8a-26cc-42d5-9054-cad7c64abe23",
    "pycharm": {
     "is_executing": true
    }
   },
   "outputs": [],
   "source": [
    "# Create a CohereEmbeddings object to vectorize our text\n",
    "embedding = CohereEmbeddings(cohere_api_key=COHERE_API_KEY, model='small')\n",
    "\n",
    "# Create an AtlasDB object to store our vectors\n",
    "db = AtlasDB(name='Observability Demo',\n",
    "             api_key=ATLAS_API_KEY,\n",
    "             embedding_function=embedding)"
   ]
  },
  {
   "cell_type": "markdown",
   "metadata": {
    "id": "UZp4BFrG9DhR"
   },
   "source": [
    "Add data at AtlasDB with the add_texts function. Each datapoint has text (the contents of the chat), a label and a timestamp."
   ]
  },
  {
   "cell_type": "code",
   "execution_count": null,
   "metadata": {
    "colab": {
     "base_uri": "https://localhost:8080/"
    },
    "id": "O67gIWCSC0jq",
    "outputId": "f02c8dd9-c6df-4ec0-87fe-cbcaa2b257d3",
    "pycharm": {
     "is_executing": true
    }
   },
   "outputs": [],
   "source": [
    "batch_size = 1000\n",
    "batched_texts = []\n",
    "batched_metadatas = []\n",
    "\n",
    "for datum in tqdm(train_data):\n",
    "\n",
    "  label, timestamp, text = datum[0], datum[1], datum[2]\n",
    "\n",
    "  #Batch data for faster adds. You can also add data one at a time if you like\n",
    "  batched_texts.append(text)\n",
    "  batched_metadatas.append({'label': label, 'timestamp': timestamp})\n",
    "\n",
    "  if len(batched_texts) >= batch_size:\n",
    "    #Add data to database as it streams\n",
    "    db.add_texts(texts=batched_texts,\n",
    "                 metadatas=batched_metadatas,\n",
    "                 refresh=False) #refresh=False indicates that we would not rebuild the database every time we add a text\n",
    "    batched_texts = []\n",
    "    batched_metadatas = []"
   ]
  },
  {
   "cell_type": "markdown",
   "metadata": {
    "id": "cTgaZ24U5PGY"
   },
   "source": [
    "Once we've added all of our text, we can create an index over our data.\n",
    "If you add more text after creating your index, you can refresh with `db.project.rebuild_maps()`\n",
    "\n",
    "For a full list of parameters to create_index, see:\n",
    "https://docs.nomic.ai/atlas_api.html#nomic.project.AtlasProject.create_index"
   ]
  },
  {
   "cell_type": "code",
   "execution_count": 53,
   "metadata": {
    "colab": {
     "base_uri": "https://localhost:8080/",
     "height": 90
    },
    "id": "rXle2imzo676",
    "outputId": "b6e07455-ab3e-4bf4-fb58-6051c9148aac"
   },
   "outputs": [
    {
     "name": "stderr",
     "output_type": "stream",
     "text": [
      "2023-03-13 12:48:24.578 | INFO     | nomic.project:wait_for_project_lock:1057 - Observability Demo: Project lock is released.\n",
      "2023-03-13 12:48:26.518 | INFO     | nomic.project:create_index:1256 - Created map `Observability Demo` in project `Observability Demo`: https://atlas.nomic.ai/map/545dd10e-65a9-4095-976d-2b16abd889e2/b3d4ea89-680a-4c75-833b-595cd80fedf3\n"
     ]
    },
    {
     "data": {
      "text/plain": "Observability Demo: https://atlas.nomic.ai/map/545dd10e-65a9-4095-976d-2b16abd889e2/b3d4ea89-680a-4c75-833b-595cd80fedf3",
      "text/html": "Atlas Projection Observability Demo. Status Projecting. <a target=\"_blank\" href=\"https://atlas.nomic.ai/map/545dd10e-65a9-4095-976d-2b16abd889e2/b3d4ea89-680a-4c75-833b-595cd80fedf3\">view online</a>"
     },
     "execution_count": 53,
     "metadata": {},
     "output_type": "execute_result"
    }
   ],
   "source": [
    "#Index our data in Atlas\n",
    "db.create_index(name='Observability Demo',\n",
    "                colorable_fields=['timestamp', 'label'],\n",
    "                build_topic_model=True,\n",
    "                topic_label_field='text')"
   ]
  },
  {
   "cell_type": "markdown",
   "metadata": {
    "id": "cdOcKxKJ9nGl"
   },
   "source": [
    "## Visualize your chats"
   ]
  },
  {
   "cell_type": "markdown",
   "source": [
    "Once the index completes, we can view it inline in our notebook!"
   ],
   "metadata": {
    "collapsed": false
   }
  },
  {
   "cell_type": "code",
   "execution_count": null,
   "metadata": {
    "colab": {
     "base_uri": "https://localhost:8080/"
    },
    "id": "V-Mz1wzuQoDz",
    "outputId": "64aa02c5-f12b-4c6e-8e70-24181fdb7fa1",
    "pycharm": {
     "is_executing": true
    }
   },
   "outputs": [],
   "source": [
    "#Wait for the index to build\n",
    "with db.project.wait_for_project_lock():\n",
    "    time.sleep(1)"
   ]
  },
  {
   "cell_type": "code",
   "execution_count": 55,
   "metadata": {
    "colab": {
     "base_uri": "https://localhost:8080/",
     "height": 931
    },
    "id": "NYkN415L52AX",
    "outputId": "63a86f6e-4294-4078-fc0b-3e986aee0d50"
   },
   "outputs": [
    {
     "data": {
      "text/plain": "AtlasProject: <{'id': '545dd10e-65a9-4095-976d-2b16abd889e2', 'owner': '9c29afbb-a002-4d49-958e-ecf5ae1351ac', 'project_name': 'Observability Demo', 'creator': 'auth0|63efc4b5462246f4d9a6ecf2', 'description': 'A description for your project', 'opensearch_index_id': 'ce0ecb28-107d-446c-a96e-bac70cf82f5f', 'is_public': True, 'project_fields': ['atlas_id', 'label', 'text', 'timestamp'], 'unique_id_field': 'atlas_id', 'modality': 'embedding', 'total_datums_in_project': 5000, 'created_timestamp': '2023-03-13T16:47:27.486015+00:00', 'atlas_indices': [{'id': '52deba40-3eac-4276-b9a6-09dfb32cefa7', 'project_id': '545dd10e-65a9-4095-976d-2b16abd889e2', 'index_name': 'Observability Demo', 'indexed_field': None, 'created_timestamp': '2023-03-13T16:48:25.521140+00:00', 'updated_timestamp': '2023-03-13T16:48:32.657595+00:00', 'atoms': ['embedding'], 'colorable_fields': ['timestamp', 'label'], 'embedders': [], 'nearest_neighbor_indices': [{'id': 'c7a28d13-bb7a-4a94-9909-ebae47d019da', 'index_name': 'NomicOrganize', 'ready': True, 'hyperparameters': {'dim': 1024, 'space': 'l2'}, 'atom_strategies': ['embedding']}], 'projections': [{'id': 'b3d4ea89-680a-4c75-833b-595cd80fedf3', 'projection_name': 'NomicProject', 'ready': True, 'hyperparameters': {'spread': 1.0, 'n_noise': None, 'min_dist': 0.4, 'n_epochs': 50, 'n_neighbors': 15, 'n_init_epochs': 20}, 'atom_strategies': ['embedding'], 'created_timestamp': '2023-03-13T16:48:25.540469+00:00', 'updated_timestamp': '2023-03-13T16:48:32.653677+00:00'}]}], 'insert_update_delete_lock': False, 'access_role': 'OWNER'}>",
      "text/html": "\n            <strong><a href=\"https://atlas.nomic.ai/dashboard/project/545dd10e-65a9-4095-976d-2b16abd889e2\">Observability Demo</strong></a>\n            <br>\n            A description for your project 5000 datums inserted.\n            <br>\n            1 index built.\n            <br><strong>Projections</strong>\n<ul>\n<li>Observability Demo. Status Completed. <a target=\"_blank\" href=\"https://atlas.nomic.ai/map/545dd10e-65a9-4095-976d-2b16abd889e2/b3d4ea89-680a-4c75-833b-595cd80fedf3\">view online</a></li></ul><hr><script>\n            destroy = function() {\n                document.getElementById(\"iframeb3d4ea89-680a-4c75-833b-595cd80fedf3\").remove()\n            }\n        </script>\n\n        <h4>Projection ID: b3d4ea89-680a-4c75-833b-595cd80fedf3</h4>\n        <div class=\"actions\">\n            <div id=\"hide\" class=\"action\" onclick=\"destroy()\">Hide embedded project</div>\n            <div class=\"action\" id=\"out\">\n                <a href=\"https://atlas.nomic.ai/map/545dd10e-65a9-4095-976d-2b16abd889e2/b3d4ea89-680a-4c75-833b-595cd80fedf3\" target=\"_blank\">Explore on atlas.nomic.ai</a>\n            </div>\n        </div>\n        \n        <iframe class=\"iframe\" id=\"iframeb3d4ea89-680a-4c75-833b-595cd80fedf3\" allow=\"clipboard-read; clipboard-write\" src=\"https://atlas.nomic.ai/map/545dd10e-65a9-4095-976d-2b16abd889e2/b3d4ea89-680a-4c75-833b-595cd80fedf3\">\n        </iframe>\n\n        <style>\n            .iframe {\n                /* vh can be **very** large in vscode ipynb. */\n                height: min(75vh, 66vw);\n                width: 100%;\n            }\n        </style>\n        \n        <style>\n            .actions {\n              display: block;\n            }\n            .action {\n              min-height: 18px;\n              margin: 5px;\n              transition: all 500ms ease-in-out;\n            }\n            .action:hover {\n              cursor: pointer;\n            }\n            #hide:hover::after {\n                content: \" X\";\n            }\n            #out:hover::after {\n                content: \"\";\n            }\n        </style>\n        "
     },
     "execution_count": 55,
     "metadata": {},
     "output_type": "execute_result"
    }
   ],
   "source": [
    "db.project"
   ]
  },
  {
   "cell_type": "markdown",
   "metadata": {
    "id": "nbXz4p5b9t2X"
   },
   "source": [
    "Atlas automatically builds a topic model on your data, allowing you to understand what people are talking about with your bot at a glance.\n",
    "\n",
    "Check out the bottom left corner of the map. The topics there (e.g. domestic violence, jokes, etc...) indicate that there is unsafe content in your query stream!\n",
    "\n",
    "You can click on a topic label to filter the map to only things of that topic\n"
   ]
  },
  {
   "cell_type": "markdown",
   "metadata": {
    "id": "F-jGDeDTBG6v"
   },
   "source": [
    "![slider.png](data:image/png;base64,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)\n",
    "The slider tool can be used to visualize data within certain time ranges. Using it, we can see that our query stream becomes more toxic over time."
   ]
  },
  {
   "cell_type": "markdown",
   "metadata": {
    "id": "KCwo9zmDBlPF"
   },
   "source": [
    "![aesthetic.png](data:image/png;base64,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)\n",
    "The aesthetic tool can be used to change the colors on the map. Coloring by the label confirms that our map places most of the toxic content in the same region of the map."
   ]
  },
  {
   "cell_type": "markdown",
   "metadata": {
    "id": "pwyVlZ4yB4f5"
   },
   "source": [
    "![pencil.png](data:image/png;base64,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)\n",
    "\n",
    "The pencil tool can be used to select regions of the map, which can be bulk labeled"
   ]
  },
  {
   "cell_type": "markdown",
   "metadata": {
    "id": "JzjyeDo8CCMw"
   },
   "source": [
    "## Getting Topic Information\n",
    "\n",
    "We can view the topics that AltasDB extracted programatically in our code."
   ]
  },
  {
   "cell_type": "code",
   "execution_count": 63,
   "metadata": {
    "id": "HSmxZbED6H-P"
   },
   "outputs": [
    {
     "name": "stdout",
     "output_type": "stream",
     "text": [
      "[{'_topic_depth_1': 'Relationships',\n",
      "  'depth': 1,\n",
      "  'topic': 1,\n",
      "  'topic_description': 'her/they/is/should/she/him/would/them/their/will/not/If/his/You/joke',\n",
      "  'topic_short_description': 'Relationships'},\n",
      " {'_topic_depth_1': 'math anxiety',\n",
      "  'depth': 1,\n",
      "  'topic': 2,\n",
      "  'topic_description': \"don't/know/sorry/feel/job/just/can't/what/didn't/do/math/like/lately/anymore/test\",\n",
      "  'topic_short_description': 'math anxiety'},\n",
      " {'_topic_depth_1': \"How's Sarah doing today?\",\n",
      "  'depth': 1,\n",
      "  'topic': 3,\n",
      "  'topic_description': \"Sarah/Hey/What's//How/doing/up/are/How's/today/Sarah!/going/what's/Hi/you\",\n",
      "  'topic_short_description': \"How's Sarah doing today?\"},\n",
      " {'_topic_depth_1': 'Thank you for the amazing party!',\n",
      "  'depth': 1,\n",
      "  'topic': 4,\n",
      "  'topic_description': 'Wow/really/so/Thank/much/excited/party/book/amazing/beautiful/looking/appreciate/car/new/amazing!',\n",
      "  'topic_short_description': 'Thank you for the amazing party!'},\n",
      " {'_topic_depth_1': 'Talking to your boss',\n",
      "  'depth': 1,\n",
      "  'topic': 5,\n",
      "  'topic_description': 'talk/boss/Hey/Hi//something/glad/wanted/meet/minute/to/you/ask/here/Good',\n",
      "  'topic_short_description': 'Talking to your boss'},\n",
      " {'_topic_depth_1': 'Family',\n",
      "  'depth': 1,\n",
      "  'topic': 6,\n",
      "  'topic_description': 'Mom/Hey/Dad/dad//talk/Mom!/something/college/dishes/father/home/Do/minute/Can',\n",
      "  'topic_short_description': 'Family'},\n",
      " {'_topic_depth_1': 'Feeling sick',\n",
      "  'depth': 1,\n",
      "  'topic': 7,\n",
      "  'topic_description': 'okay/Doctor/feeling/Are/stomach/headache/throat/pain/well/hurts/Hi/nauseous/doctor/body/sick',\n",
      "  'topic_short_description': 'Feeling sick'},\n",
      " {'_topic_depth_1': 'Hey, How, are, doing,',\n",
      "  'depth': 1,\n",
      "  'topic': 8,\n",
      "  'topic_description': \"Hey/How//up/are/doing/today/what's/What's/how's/How's/coach/seen/Hi/how\",\n",
      "  'topic_short_description': 'Hey, How, are, doing,'},\n",
      " {'_topic_depth_1': 'Relationships',\n",
      "  '_topic_depth_2': 'Parenting',\n",
      "  'depth': 2,\n",
      "  'topic': 9,\n",
      "  'topic_description': \"her/she/baby/year/old/children/child/she's/sleep/adult/suicidal/age/drinking/drugs/daughter\",\n",
      "  'topic_short_description': 'Parenting'},\n",
      " {'_topic_depth_1': 'math anxiety',\n",
      "  '_topic_depth_2': 'My new shirt',\n",
      "  'depth': 2,\n",
      "  'topic': 10,\n",
      "  'topic_description': 'car/my/new/shirt/wear/it/was/the/clean/clothes/old/driving/on/floor/dress',\n",
      "  'topic_short_description': 'My new shirt'}]\n"
     ]
    }
   ],
   "source": [
    "map = db.project.maps[0]\n",
    "topic_data = map.get_topic_data() #this is how we view all of the metadata associated with our topics\n",
    "pprint(topic_data[:10])"
   ]
  },
  {
   "cell_type": "markdown",
   "metadata": {
    "id": "mpGE8Yy2BtZS"
   },
   "source": [
    "Based on this topic information, we can see several clusters of unsafe data we want to flag - things like \"stealing\", \"violence\", \"addiction\".\n",
    "\n",
    "Furthermore, we see that each entry may have several entries under _topic_depth. The Atlas topic model is hierarchical, and entries with multiple depths trace the path down our topic tree. For instance,\n",
    "\n",
    "```\n",
    " {'_topic_depth_1': 'You Should Not Do That If You',\n",
    "  '_topic_depth_2': 'Addiction',\n",
    "  'depth': 2,\n",
    "  'topic': 17,\n",
    "  'topic_description': 'drugs/smoking/doctor/medication/addicted/pills/meds/cocaine/medicine/heroin/sleeping/sugar/quit/take/suddenly',\n",
    "  'topic_short_description': 'Addiction'},\n",
    "```\n",
    "\n",
    "Is a depth 2 topic, whose parent topic is named \"You should not do that if you\", and whose distinguishing words are \"drugs, smoking, doctor, medication, addicted, etc...\"\n",
    "\n"
   ]
  },
  {
   "cell_type": "markdown",
   "metadata": {
    "id": "XD2bUIdftNP2"
   },
   "source": [
    "## Using Topics to Filter the Query Stream\n",
    "\n",
    "By exploring the map, we can see that many of the unsafe topics share the top level label \"Don't hurt people.\" Let's use AtlasDB to build a greylist so we can review detect utterances that may be unsafe."
   ]
  },
  {
   "cell_type": "code",
   "execution_count": 64,
   "metadata": {
    "id": "EB5QmdVas7tF"
   },
   "outputs": [],
   "source": [
    "# Prep the data from our test set\n",
    "test_labels = [e[0] for e in test_data]\n",
    "test_text = [e[2] for e in test_data]\n",
    "test_embeddings = np.stack(embedding.embed_documents(test_text))"
   ]
  },
  {
   "cell_type": "code",
   "execution_count": 65,
   "metadata": {
    "id": "1bLt2_vLwa4n"
   },
   "outputs": [],
   "source": [
    "unsafe_topic = '1' #The topic id of our unsafe topic, inferred from topic_data[0]['topic']\n",
    "batch_size = 100\n",
    "topic_posteriors = []\n",
    "for i in range(0, len(test_embeddings), batch_size):\n",
    "  batch = test_embeddings[i:i+batch_size]\n",
    "  cur_posteriors = map.vector_search_topics(batch, k=32, depth=1)['topics'] #Use AtlasDB to infer the topics of new data\n",
    "  topic_posteriors.extend(cur_posteriors)\n",
    "\n",
    "predicted_is_unsafe = [max(posterior, key=lambda topic: posterior[topic]) == unsafe_topic\n",
    "                       for posterior in topic_posteriors]"
   ]
  },
  {
   "cell_type": "code",
   "execution_count": 66,
   "metadata": {
    "colab": {
     "base_uri": "https://localhost:8080/"
    },
    "id": "jko_skk8A_pt",
    "outputId": "0cb04dc0-33c4-427f-c644-ea9c833ff0a3"
   },
   "outputs": [
    {
     "name": "stdout",
     "output_type": "stream",
     "text": [
      "Precision:  0.9893617021276596\n",
      "Recall:  0.5923566878980892\n"
     ]
    }
   ],
   "source": [
    "#Analyze the results of our classifier on the test data\n",
    "true_positive = 0\n",
    "false_positive = 0\n",
    "false_negative = 0\n",
    "for i, label in enumerate(test_labels):\n",
    "  if predicted_is_unsafe[i]:\n",
    "    if label == 'unsafe':\n",
    "      true_positive += 1\n",
    "    else:\n",
    "      false_positive += 1\n",
    "  else:\n",
    "    if label == 'unsafe':\n",
    "      false_negative += 1\n",
    "\n",
    "print('Precision: ', true_positive/(true_positive+false_positive))\n",
    "print('Recall: ', true_positive/(true_positive+false_negative))"
   ]
  },
  {
   "cell_type": "markdown",
   "metadata": {
    "id": "1CzgU9ZFKt_e"
   },
   "source": [
    "By just using the topics that AtlasDB automatically generated for us, we were able to identify the *unseen* harmful data with a high precision!"
   ]
  }
 ],
 "metadata": {
  "colab": {
   "provenance": []
  },
  "kernelspec": {
   "display_name": "Python 3 (ipykernel)",
   "language": "python",
   "name": "python3"
  },
  "language_info": {
   "codemirror_mode": {
    "name": "ipython",
    "version": 3
   },
   "file_extension": ".py",
   "mimetype": "text/x-python",
   "name": "python",
   "nbconvert_exporter": "python",
   "pygments_lexer": "ipython3",
   "version": "3.8.10"
  }
 },
 "nbformat": 4,
 "nbformat_minor": 1
}
