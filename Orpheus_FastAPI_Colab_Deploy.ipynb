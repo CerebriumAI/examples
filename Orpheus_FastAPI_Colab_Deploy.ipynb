{
 "cells": [
  {
   "cell_type": "markdown",
   "metadata": {},
   "source": [
    "# Orpheus FastAPI: Google Colab Easy Deploy\n",
    "\n",
    "This notebook will help you clone your Orpheus-FastAPI repo, install dependencies, and run the server in Colab."
   ]
  },
  {
   "cell_type": "code",
   "metadata": {},
   "source": [
    "#@title 1. Clone your repo (edit URL if needed)\n",
    "GITHUB_URL = 'https://github.com/timonharz/Orpheus-FastAPI.git'  # <-- Change if your repo is elsewhere\n",
    "!git clone $GITHUB_URL\n",
    "!ls Orpheus-FastAPI"
   ]
  },
  {
   "cell_type": "code",
   "metadata": {},
   "source": [
    "#@title 2. Install dependencies\n",
    "%cd Orpheus-FastAPI\n",
    "!pip install --upgrade pip\n",
    "!pip install -r requirements.txt\n",
    "# Optional: For GPU support\n",
    "# !pip install torch torchvision torchaudio --index-url https://download.pytorch.org/whl/cu121\n"
   ]
  },
  {
   "cell_type": "code",
   "metadata": {},
   "source": [
    "#@title 3. (Optional) Set up your .env file\n",
    "import shutil\n",
    "if not os.path.exists('.env') and os.path.exists('.env.example'):\n",
    "    shutil.copy('.env.example', '.env')\n",
    "!cat .env\n"
   ]
  },
  {
   "cell_type": "code",
   "metadata": {},
   "source": [
    "#@title 4. Start the FastAPI server (Uvicorn)\n",
    "# You may need to open the public URL from the output below\n",
    "!pip install fastapi uvicorn\n",
    "import threading\n",
    "def run_server():\n",
    "    import uvicorn\n",
    "    uvicorn.run('app:app', host='0.0.0.0', port=7860)\n",
    "threading.Thread(target=run_server).start()\n",
    "\n",
    "# Wait a few seconds, then get the public URL\n",
    "import time\n",
    "time.sleep(5)\n",
    "from google.colab import output\n",
    "output.serve_kernel_port_as_iframe(7860, height=600)"
   ]
  },
  {
   "cell_type": "markdown",
   "metadata": {},
   "source": [
    "---\n",
    "## How to push your code to GitHub from Colab\n",
    "\n",
    "1. Run the following cell to configure Git (only needed once):"
   ]
  },
  {
   "cell_type": "code",
   "metadata": {},
   "source": [
    "#@title 5. (Optional) Set up Git user\n",
    "!git config --global user.email \"you@example.com\"\n",
    "!git config --global user.name \"Your Name\""
   ]
  },
  {
   "cell_type": "code",
   "metadata": {},
   "source": [
    "#@title 6. Push code changes to GitHub\n",
    "!git add .\n",
    "!git commit -m \"Update from Colab\" || echo 'Nothing to commit'\n",
    "!git push"
   ]
  }
 ],
 "metadata": {
  "kernelspec": {
   "display_name": "Python 3",
   "language": "python",
   "name": "python3"
  },
  "language_info": {
   "name": "python",
   "version": "3.x"
  }
 },
 "nbformat": 4,
 "nbformat_minor": 2
}
